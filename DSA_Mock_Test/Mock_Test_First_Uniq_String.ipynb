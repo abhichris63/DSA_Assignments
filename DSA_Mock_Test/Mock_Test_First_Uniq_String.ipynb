{
 "cells": [
  {
   "cell_type": "markdown",
   "id": "eee3ca4c",
   "metadata": {},
   "source": [
    "### First Unique Character in a String\n",
    "\n",
    "Given a string s, find the first non-repeating character in it and return its index. If it does not exist, return -1.\n",
    "\n",
    "Example 1:\n",
    "Input: s = \"leetcode\"\n",
    "Output: 0\n",
    "\n",
    "Example 2:\n",
    "Input: s = \"loveleetcode\"\n",
    "Output: 2\n",
    "\n",
    "Example 3:\n",
    "Input: s = \"aabb\"\n",
    "Output: -1\n",
    "\n",
    "Constraints:\n",
    "a. 1 <= s.length <= 10^5\n",
    "b. s consists of only lowercase English letters."
   ]
  },
  {
   "cell_type": "raw",
   "id": "46e729a9",
   "metadata": {},
   "source": [
    "def Uniq(s):\n",
    "    seq = [0]*256\n",
    "    for c in s:\n",
    "        seq[ord(c) - ord('a')] += 1\n",
    "    for i in range(len(s)):\n",
    "        if seq[ord(s[i]) - ord('a')] == 1:\n",
    "            return i\n",
    "    return -1\n",
    "\n",
    "s = \"leetcode\"\n",
    "print(str(Uniq(s)))\n",
    "print(\" \")\n",
    "s = \"loveleetcode\"\n",
    "print(str(Uniq(s)))\n",
    "print(\" \")\n",
    "s = \"aabb\"\n",
    "print(str(Uniq(s)))"
   ]
  }
 ],
 "metadata": {
  "kernelspec": {
   "display_name": "Python 3 (ipykernel)",
   "language": "python",
   "name": "python3"
  },
  "language_info": {
   "codemirror_mode": {
    "name": "ipython",
    "version": 3
   },
   "file_extension": ".py",
   "mimetype": "text/x-python",
   "name": "python",
   "nbconvert_exporter": "python",
   "pygments_lexer": "ipython3",
   "version": "3.10.9"
  }
 },
 "nbformat": 4,
 "nbformat_minor": 5
}
