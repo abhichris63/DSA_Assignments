{
 "cells": [
  {
   "cell_type": "markdown",
   "id": "3c26c6ce",
   "metadata": {},
   "source": [
    "### Move Zeroes\n",
    "Given an integer array nums, move all 0's to the end of it while maintaining the relative order of the non-zero elements.\n",
    "\n",
    "Note that you must do this in-place without making a copy of the array.\n",
    "\n",
    "Example 1:\n",
    "Input: nums = [0,1,0,3,12]\n",
    "Output: [1,3,12,0,0]\n",
    "\n",
    "Example 2:\n",
    "Input: nums = [0]\n",
    "Output: [0]\n",
    "\n",
    "Constraints:\n",
    "a. 1 <= nums.length <= 10^4\n",
    "b. -2^31 <= nums[i] <= 2^31 - 1"
   ]
  },
  {
   "cell_type": "raw",
   "id": "6f057634",
   "metadata": {},
   "source": [
    "def Movezerostoend(nums,n):\n",
    "    count = 0\n",
    "    for i in range(n):\n",
    "        if nums[i] != 0:\n",
    "            nums[count] = nums[i]\n",
    "            count +=1\n",
    "    while count < n:\n",
    "        nums[count]=0\n",
    "        count +=1\n",
    "nums = [0,1,0,3,12]\n",
    "n=len(nums)\n",
    "Movezerostoend(nums,n)\n",
    "print(nums)\n",
    "print(\"  \")\n",
    "nums = [0]\n",
    "n=len(nums)\n",
    "Movezerostoend(nums,n)\n",
    "print(nums)"
   ]
  }
 ],
 "metadata": {
  "kernelspec": {
   "display_name": "Python 3 (ipykernel)",
   "language": "python",
   "name": "python3"
  },
  "language_info": {
   "codemirror_mode": {
    "name": "ipython",
    "version": 3
   },
   "file_extension": ".py",
   "mimetype": "text/x-python",
   "name": "python",
   "nbconvert_exporter": "python",
   "pygments_lexer": "ipython3",
   "version": "3.10.9"
  }
 },
 "nbformat": 4,
 "nbformat_minor": 5
}
