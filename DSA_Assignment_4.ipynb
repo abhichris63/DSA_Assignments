{
 "cells": [
  {
   "cell_type": "markdown",
   "id": "d57c80c6",
   "metadata": {},
   "source": [
    "<aside>\n",
    "💡 Given three integer arrays arr1, arr2 and arr3 **sorted** in **strictly increasing** order, return a sorted array of **only** the integers that appeared in **all** three arrays.\n",
    "\n",
    "**Example 1:**\n",
    "\n",
    "Input: arr1 = [1,2,3,4,5], arr2 = [1,2,5,7,9], arr3 = [1,3,4,5,8]\n",
    "\n",
    "Output: [1,5]\n",
    "\n",
    "**Explanation:** Only 1 and 5 appeared in the three arrays.\n",
    "\n",
    "</aside>"
   ]
  },
  {
   "cell_type": "markdown",
   "id": "494bc607",
   "metadata": {},
   "source": [
    "* lets consider the current element traversed in ar1[] be x, in ar2[] be y and in ar3[] be z.\n",
    "* If x, y and z are same, we can simply print any of them as common element and move ahead in all three arrays.\n",
    "* Else If x < y, we can move ahead in ar1[] as x cannot be a common element.\n",
    "* Else If x > z and y > z), we can simply move ahead in ar3[] as z cannot be a common element."
   ]
  },
  {
   "cell_type": "raw",
   "id": "ef7c2c9b",
   "metadata": {},
   "source": [
    "def findCommon(ar1, ar2, ar3, n1, n2, n3):\n",
    "    i, j, k = 0, 0, 0\n",
    "\n",
    "    while (i < n1 and j < n2 and k < n3):\n",
    "        if (ar1[i] == ar2[j] and ar2[j] == ar3[k]):\n",
    "            print (ar1[i])\n",
    "            i += 1\n",
    "            j += 1\n",
    "            k += 1\n",
    "        elif ar1[i] < ar2[j]:\n",
    "            i += 1\n",
    "        elif ar2[j] < ar3[k]:\n",
    "            j += 1\n",
    "        else: k += 1\n",
    "\n",
    "ar1 = [1,2,3,4,5]\n",
    "ar2 = [1,2,5,7,9]\n",
    "ar3 = [1,3,4,5,8]\n",
    "n1 = len(ar1)\n",
    "n2 = len(ar2)\n",
    "n3 = len(ar3)\n",
    "print (\"Common elements are\")\n",
    "findCommon(ar1, ar2, ar3, n1, n2, n3)\n",
    "\n",
    "#Time complexity = O(n1+n2+n3)\n",
    "# Space Complexity =O(1)"
   ]
  },
  {
   "cell_type": "markdown",
   "id": "ae1e239b",
   "metadata": {},
   "source": [
    "<aside>\n",
    "💡 **Question 2**\n",
    "\n",
    "Given two **0-indexed** integer arrays nums1 and nums2, return *a list* answer *of size* 2 *where:*\n",
    "\n",
    "- answer[0] *is a list of all **distinct** integers in* nums1 *which are **not** present in* nums2*.*\n",
    "- answer[1] *is a list of all **distinct** integers in* nums2 *which are **not** present in* nums1.\n",
    "\n",
    "**Note** that the integers in the lists may be returned in **any** order.\n",
    "\n",
    "**Example 1:**\n",
    "\n",
    "**Input:** nums1 = [1,2,3], nums2 = [2,4,6]\n",
    "\n",
    "**Output:** [[1,3],[4,6]]\n",
    "\n",
    "**Explanation:**\n",
    "\n",
    "For nums1, nums1[1] = 2 is present at index 0 of nums2, whereas nums1[0] = 1 and nums1[2] = 3 are not present in nums2. Therefore, answer[0] = [1,3].\n",
    "\n",
    "For nums2, nums2[0] = 2 is present at index 1 of nums1, whereas nums2[1] = 4 and nums2[2] = 6 are not present in nums2. Therefore, answer[1] = [4,6].\n",
    "\n",
    "</aside>"
   ]
  },
  {
   "cell_type": "markdown",
   "id": "d9e666d5",
   "metadata": {},
   "source": [
    "* Define method getElementsOnlyInFirstList, this method accepts two lists of integers and returns \n",
    "the elements that are present only in the first argument:\n",
    " loop over the first list and for every element, check the second list. If the element is found in the second list we break\n",
    " and mark a boolean variable existInNums2 as true.\n",
    " \n",
    " After checking all the elements in the second list, if the variable existInNums2 is false, only then we store the element  in the list onlyInNums1.\n",
    "\n",
    "Return onlyInNums1.\n",
    "\n",
    "* Call the method getElementsOnlyInFirstList once for the param (nums1, nums2) and then again for (nums2, nums1)."
   ]
  },
  {
   "cell_type": "raw",
   "id": "3ff19874",
   "metadata": {},
   "source": [
    "class Solution:\n",
    "    def findDifference(self, nums1: list[int], nums2: list[int]) -> list[list[int]]:\n",
    "        print [list(set(nums1).difference(nums2)), list(set(nums2).difference(nums1))]\n",
    "        \n",
    "#Time complexity= O(N∗M)\n",
    "#Space complexity= O(1)"
   ]
  },
  {
   "cell_type": "markdown",
   "id": "e7981d87",
   "metadata": {},
   "source": [
    "<aside>\n",
    "💡 **Question 3**\n",
    "Given a 2D integer array matrix, return *the **transpose** of* matrix.\n",
    "\n",
    "The **transpose** of a matrix is the matrix flipped over its main diagonal, switching the matrix's row and column indices.\n",
    "\n",
    "**Example 1:**\n",
    "\n",
    "Input: matrix = [[1,2,3],[4,5,6],[7,8,9]]\n",
    "\n",
    "Output: [[1,4,7],[2,5,8],[3,6,9]]\n",
    "\n",
    "</aside>"
   ]
  },
  {
   "cell_type": "markdown",
   "id": "673385be",
   "metadata": {},
   "source": [
    "* Declare and initialize a two-dimensional array a.\n",
    "* Calculate the number of rows and columns present in the matrix and store it variables rows and cols respectively.\n",
    "* Declare another array t with reversed dimensions i.e t[cols][rows]. Array t will be used to store the elements of the transposed matrix.\n",
    "* Loop through the array a and convert its rows into columns of matrix t using\n",
    "    t[ i ][ j ] = a[ j ][ i ];\n",
    "* Finally, display the elements of matrix t."
   ]
  },
  {
   "cell_type": "markdown",
   "id": "51f7c5d1",
   "metadata": {},
   "source": [
    "a = [  \n",
    "        [1, 2, 3],  \n",
    "        [4, 5, 6],  \n",
    "        [7, 8, 9]  \n",
    "    ];  \n",
    "\n",
    "rows = len(a);  \n",
    "cols = len(a[0]);  \n",
    "   \n",
    "t = [[0]*rows for i in range(cols)];  \n",
    "   \n",
    "for i in range(0, cols):  \n",
    "    for j in range(0, rows):  \n",
    "       \n",
    "        t[i][j] = a[j][i];  \n",
    "   \n",
    "print(\"Transpose of given matrix: \");  \n",
    "for i in range(0, cols):  \n",
    "    for j in range(0, rows):  \n",
    "        print(t[i][j],\" \",end=''),  \n",
    "   \n",
    "    print();  "
   ]
  },
  {
   "cell_type": "markdown",
   "id": "cf5f3f7d",
   "metadata": {},
   "source": [
    "<aside>\n",
    "💡 **Question 4**\n",
    "Given an integer array nums of 2n integers, group these integers into n pairs (a1, b1), (a2, b2), ..., (an, bn) such that the sum of min(ai, bi) for all i is **maximized**. Return *the maximized sum*.\n",
    "\n",
    "**Example 1:**\n",
    "\n",
    "Input: nums = [1,4,3,2]\n",
    "\n",
    "Output: 4\n",
    "\n",
    "**Explanation:** All possible pairings (ignoring the ordering of elements) are:\n",
    "\n",
    "1. (1, 4), (2, 3) -> min(1, 4) + min(2, 3) = 1 + 2 = 3\n",
    "\n",
    "2. (1, 3), (2, 4) -> min(1, 3) + min(2, 4) = 1 + 2 = 3\n",
    "\n",
    "3. (1, 2), (3, 4) -> min(1, 2) + min(3, 4) = 1 + 3 = 4\n",
    "\n",
    "So the maximum possible sum is 4.\n",
    "\n",
    "</aside>"
   ]
  },
  {
   "cell_type": "markdown",
   "id": "159422fc",
   "metadata": {},
   "source": [
    "* Sort the list nums.\n",
    "* Initialize the answer variable Sum as 0.\n",
    "* Iterate over the list nums and add the elements at even indices to maxSum.\n",
    "* Return Sum."
   ]
  },
  {
   "cell_type": "raw",
   "id": "3ea6ade5",
   "metadata": {},
   "source": [
    "class ArrayPartition1:\n",
    "    def arrayPairSum(self, nums: list[int]) -> int:\n",
    "        nums.sort()\n",
    "        sum = 0\n",
    "        for i in range(0, len(nums)-1, 2):\n",
    "            sum += min(nums[i], nums[i+1])\n",
    "        return sum\n",
    "#Time complexity: O(Nlog⁡N)\n",
    "#Space complexity: O(N)"
   ]
  },
  {
   "cell_type": "markdown",
   "id": "147071de",
   "metadata": {},
   "source": [
    "<aside>\n",
    "💡 **Question 5**\n",
    "You have n coins and you want to build a staircase with these coins. The staircase consists of k rows where the ith row has exactly i coins. The last row of the staircase **may be** incomplete.\n",
    "\n",
    "Given the integer n, return *the number of **complete rows** of the staircase you will build*.\n",
    "\n",
    "**Example 1:**\n",
    "\n",
    "[]()\n",
    "\n",
    "![v2.jpg](https://s3-us-west-2.amazonaws.com/secure.notion-static.com/4bd91cfa-d2b1-47b3-8197-a72e8dcfff4b/v2.jpg)\n",
    "\n",
    "**Input:** n = 5\n",
    "\n",
    "**Output:** 2\n",
    "\n",
    "**Explanation:** Because the 3rd row is incomplete, we return 2.\n",
    "\n",
    "</aside>"
   ]
  },
  {
   "cell_type": "markdown",
   "id": "8d693f40",
   "metadata": {},
   "source": [
    "* Approach Binary Search"
   ]
  },
  {
   "cell_type": "raw",
   "id": "cf0d7fd1",
   "metadata": {},
   "source": [
    "class Solution:\n",
    "    def arrangeCoins(self, n: int) -> int:\n",
    "        if n==1:\n",
    "            return 1\n",
    "        l=0\n",
    "        r=n//2 + 1\n",
    "        while l<=r:\n",
    "            m = l+(r-l)//2\n",
    "            x = (m*(m+1)//2)\n",
    "            if x==n:\n",
    "                return(m)\n",
    "            elif x<n:\n",
    "                l = m+1\n",
    "            else:\n",
    "                r=m-1\n",
    "        return(l-1)\n",
    "    \n",
    "#Time complexity : O(log⁡N)\n",
    "#Space complexity : O(1)"
   ]
  },
  {
   "cell_type": "markdown",
   "id": "56715e0e",
   "metadata": {},
   "source": [
    "<aside>\n",
    "💡 **Question 6**\n",
    "Given an integer array nums sorted in **non-decreasing** order, return *an array of **the squares of each number** sorted in non-decreasing order*.\n",
    "\n",
    "**Example 1:**\n",
    "\n",
    "Input: nums = [-4,-1,0,3,10]\n",
    "\n",
    "Output: [0,1,9,16,100]\n",
    "\n",
    "**Explanation:** After squaring, the array becomes [16,1,0,9,100].\n",
    "After sorting, it becomes [0,1,9,16,100]\n",
    "\n",
    "</aside>"
   ]
  },
  {
   "cell_type": "markdown",
   "id": "eedf63d2",
   "metadata": {},
   "source": [
    "# Algorithm:\n",
    "\n",
    "* Initialize left=0 and right=n-1\n",
    "* if abs(left) >= abs(right) then store square(arr[left])\n",
    "* at the end of result array and increment left pointer\n",
    "* else store square(arr[right]) in the result array and decrement right pointer\n",
    "* decrement index of result array"
   ]
  },
  {
   "cell_type": "raw",
   "id": "95f69699",
   "metadata": {},
   "source": [
    "def sortSquares(arr, n):\n",
    "    left, right = 0, n - 1\n",
    "    index = n - 1\n",
    "    result = [0 for x in arr]\n",
    "\n",
    "    while index >= 0:\n",
    "        if abs(arr[left]) >= abs(arr[right]):\n",
    "            result[index] = arr[left] * arr[left]\n",
    "            left += 1\n",
    "        else:\n",
    "            result[index] = arr[right] * arr[right]\n",
    "            right -= 1\n",
    "        index -= 1\n",
    "\n",
    "    for i in range(n):\n",
    "        arr[i] = result[i]\n",
    "\n",
    "\n",
    "arr = [-4,-1,0,3,10]\n",
    "n = len(arr)\n",
    "\n",
    "print(\"Before sort \")\n",
    "for i in range(n):\n",
    "    print(arr[i], end =\" \" )\n",
    "    \n",
    "sortSquares(arr, n)\n",
    "print(\"\\nAfter Sort \")\n",
    "for i in range(n):\n",
    "    print(arr[i], end =\" \" )\n",
    "    \n",
    "#Time complexity: O(n) \n",
    "#Space complexity: O(n)\n"
   ]
  },
  {
   "cell_type": "markdown",
   "id": "934a937f",
   "metadata": {},
   "source": [
    "<aside>\n",
    "💡 **Question 7**\n",
    "You are given an m x n matrix M initialized with all 0's and an array of operations ops, where ops[i] = [ai, bi] means M[x][y] should be incremented by one for all 0 <= x < ai and 0 <= y < bi.\n",
    "\n",
    "Count and return *the number of maximum integers in the matrix after performing all the operations*\n",
    "\n",
    "**Example 1:**\n",
    "\n",
    "![q4.jpg](https://s3-us-west-2.amazonaws.com/secure.notion-static.com/4d0890d0-7bc7-4f59-be8e-352d9f3c1c52/q4.jpg)\n",
    "\n",
    "**Input:** m = 3, n = 3, ops = [[2,2],[3,3]]\n",
    "\n",
    "**Output:** 4\n",
    "\n",
    "**Explanation:** The maximum integer in M is 2, and there are four of it in M. So return 4.\n",
    "\n",
    "</aside>"
   ]
  },
  {
   "cell_type": "raw",
   "id": "6aa2fd4d",
   "metadata": {},
   "source": [
    "from typing import List\n",
    "class Solution:\n",
    "    def maxCount(self, m: int, n: int, ops: List[List[int]]) -> int:\n",
    "        length = len(ops)\n",
    "        if length == 0:\n",
    "            return m*n\n",
    "        result = [ops[0][0] , ops[0][1]]\n",
    "        for i in range(1,length):\n",
    "            result[0] = min(result[0] , ops[i][0])\n",
    "            result[1] = min(result[1] , ops[i][1])\n",
    "        return result[0]*result[1]  "
   ]
  },
  {
   "cell_type": "markdown",
   "id": "d67cf560",
   "metadata": {},
   "source": [
    "<aside>\n",
    "💡 **Question 8**\n",
    "\n",
    "Given the array nums consisting of 2n elements in the form [x1,x2,...,xn,y1,y2,...,yn].\n",
    "\n",
    "*Return the array in the form* [x1,y1,x2,y2,...,xn,yn].\n",
    "\n",
    "**Example 1:**\n",
    "\n",
    "**Input:** nums = [2,5,1,3,4,7], n = 3\n",
    "\n",
    "**Output:** [2,3,5,4,1,7]\n",
    "\n",
    "**Explanation:** Since x1=2, x2=5, x3=1, y1=3, y2=4, y3=7 then the answer is [2,3,5,4,1,7].\n",
    "\n",
    "</aside>"
   ]
  },
  {
   "cell_type": "markdown",
   "id": "59dcbbf3",
   "metadata": {},
   "source": [
    "# Approch: Brute Force \n",
    "* It involves two nested loops to rotate the elements in the second half of the array to the left. The first loop runs n times\n",
    "to cover all elements in the second half of the array. The second loop rotates the elements to the left. Note that the start\n",
    "index in the second loop depends on which element we are rotating and the end index depends on how many positions we need to\n",
    "move to the left.\n"
   ]
  },
  {
   "cell_type": "markdown",
   "id": "ad01e4bb",
   "metadata": {},
   "source": [
    "def shuffleArray(a, n):\n",
    " \n",
    "    i, q, k = 0, 1, n\n",
    "    while(i < n):    \n",
    "        j = k\n",
    "        while(j > i + q):\n",
    "            a[j - 1], a[j] = a[j], a[j - 1]\n",
    "            j -= 1\n",
    "        i += 1\n",
    "        k += 1\n",
    "        q += 1\n",
    " \n",
    "### Driver Code\n",
    "a =  [2,5,1,3,4,7]\n",
    "n = len(a)\n",
    "shuffleArray(a, int(n / 2))\n",
    "for i in range(0, n):\n",
    "    print(a[i], end = \" \")"
   ]
  }
 ],
 "metadata": {
  "kernelspec": {
   "display_name": "Python 3 (ipykernel)",
   "language": "python",
   "name": "python3"
  },
  "language_info": {
   "codemirror_mode": {
    "name": "ipython",
    "version": 3
   },
   "file_extension": ".py",
   "mimetype": "text/x-python",
   "name": "python",
   "nbconvert_exporter": "python",
   "pygments_lexer": "ipython3",
   "version": "3.10.9"
  }
 },
 "nbformat": 4,
 "nbformat_minor": 5
}
