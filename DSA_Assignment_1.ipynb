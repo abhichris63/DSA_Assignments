{
 "cells": [
  {
   "cell_type": "markdown",
   "id": "65084fa9",
   "metadata": {},
   "source": [
    "### 1. Given an array of integers nums and an integer target, return indices of the two numbers such that they add up to     target.\n",
    "   * You may assume that each input would have exactly one solution, and you may not use the same element twice.\n",
    "   * You can return the answer in any order.\n",
    " ### Example:\n",
    " * Input: nums = [2,7,11,15], target = 9 Output 0 [0,1]\n",
    " * Explanation: Because nums[0] + nums[1] == 9, we return [0, 1]"
   ]
  },
  {
   "cell_type": "markdown",
   "id": "6b4d5b01",
   "metadata": {},
   "source": [
    "### Approch:\n",
    "        * At first i will take one element.\n",
    "        * Adding this element with every other element.\n",
    "        * After adding, compare the sum with the given target.\n",
    "        * If the sum is equal to the target, return the indices of these two elements.\n",
    "        * If the sum is not equal to the target, we check for the next pair.\n",
    "        \n",
    "#### Time Complexity = O(n*n)\n",
    "#### Space Complexity =O(1)\n"
   ]
  },
  {
   "cell_type": "markdown",
   "id": "bdccaada",
   "metadata": {},
   "source": [
    "#Importing List model from typing\n",
    "from typing import List\n",
    "\n",
    "#defining twoSum function\n",
    "def twoSum(nums: List[int], target: int) -> List[int]:\n",
    "    result = []\n",
    "    diff = {}\n",
    "    for i, n in enumerate(nums):\n",
    "        difference = target - n\n",
    "        if difference in diff:\n",
    "            result.append(i)\n",
    "            result.append(diff[difference])\n",
    "            break\n",
    "        else:\n",
    "            diff[n] = i\n",
    "    return result\n",
    "\n",
    "\n",
    "numbers = [2, 7, 11, 15]\n",
    "target_value = 9\n",
    "print(str(twoSum(numbers, target_value)))"
   ]
  },
  {
   "cell_type": "markdown",
   "id": "682c3b84",
   "metadata": {},
   "source": [
    "### 2. Given an integer array nums and an integer val, remove all occurrences of val in nums in-place. \n",
    "The order of the elements may be changed. Then return the number of elements in nums which are not equal to val.\n",
    "Consider the number of elements in nums which are not equal to val be k, to get accepted, you need to do the following things:\n",
    "* Change the array nums such that the first k elements of nums contain the elements which are not equal to val. \n",
    "  The remaining elements of nums are not important as well as the size of nums.\n",
    "* Return k.\n",
    "#### Example : \n",
    "    * Input: nums = [3,2,2,3], val = 3 \n",
    "    * Output: 2, nums = [2,2,_,_]\n",
    "#### Explanation: \n",
    "    Your function should return k = 2, with the first two elements of nums being 2. \n",
    "    It does not matter what you leave beyond the returned k (hence they are underscores)"
   ]
  },
  {
   "cell_type": "markdown",
   "id": "7291dbbd",
   "metadata": {},
   "source": [
    "### Approch:\n",
    "        * Here i will take a variable count.\n",
    "        * This will count the number of elements except value.\n",
    "        * Checking the array left to right.\n",
    "        * If the current element is not equal to value. We will add that element to the place of count.\n",
    "\n",
    "#### Time Complexity = O(n)\n",
    "#### Space Complexity =O(1)\n"
   ]
  },
  {
   "cell_type": "raw",
   "id": "53770a71",
   "metadata": {},
   "source": [
    "class RemoveElement:\n",
    "    def removeElement(nums: List[int], val: int) -> int:\n",
    "        count = 0\n",
    "        for i in range(len(nums)):\n",
    "            if nums[i] != val:\n",
    "                nums[count] = nums[i]\n",
    "                count += 1\n",
    "        return count"
   ]
  },
  {
   "cell_type": "markdown",
   "id": "c1b84e67",
   "metadata": {},
   "source": [
    "### 3).Given a sorted array of distinct integers and a target value, return the index if the target is found. If not, return the index where it would be if it were inserted in order.\n",
    "You must write an algorithm with O(log n) runtime complexity.\n",
    "* Example 1:\n",
    "    Input: nums = [1,3,5,6], target = 5\n",
    "* Output: 2"
   ]
  },
  {
   "cell_type": "markdown",
   "id": "997555fe",
   "metadata": {},
   "source": [
    "### Approch:\n",
    "    \n",
    " * Here i used Divide and conquer method of binary search.\n",
    " * So i will break the given problem into smaller sub-problems and then.\n",
    " * Solving the sub-problems and combining them to get the aspired output."
   ]
  },
  {
   "cell_type": "markdown",
   "id": "b78951e5",
   "metadata": {},
   "source": [
    "class Solution(object):\n",
    "    def searchInsert(self, nums, target):\n",
    "        start = 0\n",
    "        end = len(nums) - 1\n",
    "        while (start <= end):\n",
    "            mid = (start + end)/2\n",
    "            if nums[mid] == target:\n",
    "                return mid\n",
    "            elif target > nums[mid]:\n",
    "                start = mid + 1 \n",
    "            else:\n",
    "                end = mid -1\n",
    "        return end + 1"
   ]
  },
  {
   "cell_type": "markdown",
   "id": "8856db52",
   "metadata": {},
   "source": [
    "### 4).You are given a large integer represented as an integer array digits, where each digits[i] is the ith digit of the integer. \n",
    "The digits are ordered from most significant to least significant in left-to-right order. The large integer does not contain any leading 0's.\n",
    "Increment the large integer by one and return the resulting array of digits.\n",
    "\n",
    "* Example 1:\n",
    "    Input: digits = [1,2,3]\n",
    "* Output: [1,2,4]\n",
    "*Explanation: The array represents the integer 123.\n",
    "    Incrementing by one gives 123 + 1 = 124.\n",
    "    Thus, the result should be [1,2,4]."
   ]
  },
  {
   "cell_type": "markdown",
   "id": "83910885",
   "metadata": {},
   "source": [
    "* Time Complexity = O(n)\n",
    "* Space Complexity =O(1)"
   ]
  },
  {
   "cell_type": "markdown",
   "id": "c9549fd0",
   "metadata": {},
   "source": [
    "def plusOne(self, digits):\n",
    "    digit_length = len(digits)\n",
    "\n",
    "    i = digit_length - 1\n",
    "\n",
    "    while digits[i] == 9 and i >= 0:\n",
    "        i -= 1\n",
    "\n",
    "    if i == -1:\n",
    "        results = [0]*(digit_length + 1)\n",
    "        results[0] = 1\n",
    "        return results\n",
    "\n",
    "    results = [0]*(digit_length)\n",
    "\n",
    "    results[i] = digits[i] + 1\n",
    "\n",
    "    for j in range(i-1, -1, -1):\n",
    "        results[j] = digits[j]\n",
    "\n",
    "    return results"
   ]
  },
  {
   "cell_type": "markdown",
   "id": "9df4ac02",
   "metadata": {},
   "source": [
    "### 5. You are given two integer arrays nums1 and nums2, sorted in non-decreasing order, and two integers m and n, representing the number of elements in nums1 and nums2 respectively.\n",
    "\n",
    "* Merge nums1 and nums2 into a single array sorted in non-decreasing order.\n",
    "\n",
    "* The final sorted array should not be returned by the function, but instead be stored inside the array nums1. To accommodate this, nums1 has a length of m + n, where the first m elements denote the elements that should be merged, and the last n elements are set to 0 and should be ignored. nums2 has a length of n.\n",
    "\n",
    "**Example 1:**\n",
    "    Input: nums1 = [1,2,3,0,0,0], m = 3, nums2 = [2,5,6], n = 3\n",
    "**Output**: [1,2,2,3,5,6]\n",
    "\n",
    "**Explanation:** The arrays we are merging are [1,2,3] and [2,5,6].\n",
    "The result of the merge is [1,2,2,3,5,6] with the underlined elements coming from nums1.\n",
    "\n",
    "\n",
    "\n",
    "* Time Complexity :O(m+n)\n",
    "* Space Complexity: O(1)"
   ]
  },
  {
   "cell_type": "markdown",
   "id": "3654c2fe",
   "metadata": {},
   "source": [
    "class Solution(object):\n",
    "    def merge(self, nums1, m, nums2, n):\n",
    "\n",
    "        i = int(m - 1)\n",
    "        j = int(n - 1)\n",
    "        k = int(m + n - 1)\n",
    "        \n",
    "        while (k >= 0):\n",
    "            if i>=0 and j>=0:\n",
    "                if(nums2[j] > nums1[i]):\n",
    "                    nums1[k] = nums2[j]\n",
    "                    k -= 1\n",
    "                    j -= 1\n",
    "                else:\n",
    "                    nums1[k] = nums1[i]\n",
    "                    k -= 1\n",
    "                    i -= 1\n",
    "            elif j >= 0:\n",
    "                nums1[k] = nums2[j]\n",
    "                k -= 1\n",
    "                j -= 1\n",
    "            else:\n",
    "                break\n",
    "        \n",
    "class Solution(object):\n",
    "    def merge(self, nums1, m, nums2, n):\n",
    "\n",
    "        i = int(m - 1)\n",
    "        j = int(n - 1)\n",
    "        k = int(m + n - 1)\n",
    "        \n",
    "        while (k >= 0):\n",
    "            if i>=0 and j>=0:\n",
    "                if(nums2[j] > nums1[i]):\n",
    "                    nums1[k] = nums2[j]\n",
    "                    k -= 1\n",
    "                    j -= 1\n",
    "                else:\n",
    "                    nums1[k] = nums1[i]\n",
    "                    k -= 1\n",
    "                    i -= 1\n",
    "            elif j >= 0:\n",
    "                nums1[k] = nums2[j]\n",
    "                k -= 1\n",
    "                j -= 1\n",
    "            else:\n",
    "                break"
   ]
  },
  {
   "cell_type": "markdown",
   "id": "78343961",
   "metadata": {},
   "source": [
    "# 6. Given an integer array nums, return true if any value appears at least twice in the array, and return false if every element is distinct.\n",
    "\n",
    "\n",
    "\n",
    "\n",
    "* Time Complexity :O(n*n)\n",
    "* Space Complexity: O(1)"
   ]
  },
  {
   "cell_type": "markdown",
   "id": "5a47d8c3",
   "metadata": {},
   "source": [
    "class Solution {\n",
    "public:\n",
    "    bool containsDuplicate(vector<int>& nums) {\n",
    "        bool flag = false;\n",
    "        for(int i =0;i<nums.size();i++){\n",
    "            for(int j=i+1;j<nums.size();j++){\n",
    "                if(nums[i] == nums[j]) return true;\n",
    "            }\n",
    "        }\n",
    "        return flag;\n",
    "    }\n",
    "};"
   ]
  },
  {
   "cell_type": "markdown",
   "id": "d049e634",
   "metadata": {},
   "source": [
    "### 7. Given an integer array nums, move all 0's to the end of it while maintaining the relative order of the nonzero elements.\n",
    "\n",
    "* Time Complexity :O(N)\n",
    "* Space Complexity:O(1)  "
   ]
  },
  {
   "cell_type": "raw",
   "id": "81913e14",
   "metadata": {},
   "source": [
    "A = [5, 6, 0, 4, 6, 0, 9, 0, 8]\n",
    "n = len(A)\n",
    "j = 0\n",
    "for i in range(n):\n",
    "    if A[i] != 0:\n",
    "        A[j], A[i] = A[i], A[j]  \n",
    "        j += 1\n",
    "print(A)"
   ]
  },
  {
   "cell_type": "markdown",
   "id": "f7ce614c",
   "metadata": {},
   "source": [
    "### 8. You have a set of integers s, which originally contains all the numbers from 1 to n. Unfortunately, due to some error, one of the numbers in s got duplicated to another number in the set, which results in repetition of one number and loss of another number.\n",
    "\n",
    "* You are given an integer array nums representing the data status of this set after the error.\n",
    "\n",
    "* Find the number that occurs twice and the number that is missing and return them in the form of an array.\"\"\"\n",
    "\n",
    "\n",
    "* Time Complexity : O(N2)\n",
    "* Space Complexity: O(1)"
   ]
  },
  {
   "cell_type": "raw",
   "id": "961b12fb",
   "metadata": {},
   "source": [
    "def findRepeating(arr, N):\n",
    "for i in range(N):\n",
    "    for j in range(i + 1, N):\n",
    "        if (arr[i] == arr[j]):\n",
    "            return arr[i]\n",
    "print(findRepeating(arr, N))"
   ]
  }
 ],
 "metadata": {
  "kernelspec": {
   "display_name": "Python 3 (ipykernel)",
   "language": "python",
   "name": "python3"
  },
  "language_info": {
   "codemirror_mode": {
    "name": "ipython",
    "version": 3
   },
   "file_extension": ".py",
   "mimetype": "text/x-python",
   "name": "python",
   "nbconvert_exporter": "python",
   "pygments_lexer": "ipython3",
   "version": "3.10.9"
  }
 },
 "nbformat": 4,
 "nbformat_minor": 5
}
